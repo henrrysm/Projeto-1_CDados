{
 "cells": [
  {
   "cell_type": "markdown",
   "metadata": {},
   "source": [
    "# Projeto 1 - Ciência dos Dados"
   ]
  },
  {
   "cell_type": "markdown",
   "metadata": {},
   "source": [
    "Nome: Gabriel Penna\n",
    "\n",
    "Nome: Henrry Souza Miguel"
   ]
  },
  {
   "cell_type": "markdown",
   "metadata": {},
   "source": [
    "Atenção: Serão permitidos grupos de três pessoas, mas com uma rubrica mais exigente. Grupos deste tamanho precisarão fazer um questionário de avaliação de trabalho em equipe"
   ]
  },
  {
   "cell_type": "markdown",
   "metadata": {},
   "source": [
    "___\n",
    "Carregando algumas bibliotecas:"
   ]
  },
  {
   "cell_type": "code",
   "execution_count": 109,
   "metadata": {},
   "outputs": [],
   "source": [
    "%matplotlib inline\n",
    "import pandas as pd\n",
    "import matplotlib.pyplot as plt\n",
    "import numpy as np\n",
    "import os"
   ]
  },
  {
   "cell_type": "code",
   "execution_count": 110,
   "metadata": {
    "scrolled": false
   },
   "outputs": [
    {
     "name": "stdout",
     "output_type": "stream",
     "text": [
      "Esperamos trabalhar no diretório\n",
      "C:\\Users\\gabri\\Downloads\n"
     ]
    }
   ],
   "source": [
    "print('Esperamos trabalhar no diretório')\n",
    "print(os.getcwd())"
   ]
  },
  {
   "cell_type": "markdown",
   "metadata": {},
   "source": [
    "Carregando a base de dados com os tweets classificados como relevantes e não relevantes:"
   ]
  },
  {
   "cell_type": "code",
   "execution_count": 111,
   "metadata": {},
   "outputs": [],
   "source": [
    "filename='wandavision.xlsx'"
   ]
  },
  {
   "cell_type": "code",
   "execution_count": 112,
   "metadata": {},
   "outputs": [
    {
     "data": {
      "text/html": [
       "<div>\n",
       "<style scoped>\n",
       "    .dataframe tbody tr th:only-of-type {\n",
       "        vertical-align: middle;\n",
       "    }\n",
       "\n",
       "    .dataframe tbody tr th {\n",
       "        vertical-align: top;\n",
       "    }\n",
       "\n",
       "    .dataframe thead th {\n",
       "        text-align: right;\n",
       "    }\n",
       "</style>\n",
       "<table border=\"1\" class=\"dataframe\">\n",
       "  <thead>\n",
       "    <tr style=\"text-align: right;\">\n",
       "      <th></th>\n",
       "      <th>Treinamento</th>\n",
       "      <th>Relevante (1) - Irrelevante (0)</th>\n",
       "    </tr>\n",
       "  </thead>\n",
       "  <tbody>\n",
       "    <tr>\n",
       "      <th>0</th>\n",
       "      <td>@wolveriwne já to ansioso demais pelo os próxi...</td>\n",
       "      <td>1</td>\n",
       "    </tr>\n",
       "    <tr>\n",
       "      <th>1</th>\n",
       "      <td>pensei aqui e wandavision chama wandavision pq...</td>\n",
       "      <td>0</td>\n",
       "    </tr>\n",
       "    <tr>\n",
       "      <th>2</th>\n",
       "      <td>assistindo wandavision com a minha mãe e tendo...</td>\n",
       "      <td>0</td>\n",
       "    </tr>\n",
       "    <tr>\n",
       "      <th>3</th>\n",
       "      <td>@youngavengerbr foi pra chamada de elenco tbm,...</td>\n",
       "      <td>0</td>\n",
       "    </tr>\n",
       "    <tr>\n",
       "      <th>4</th>\n",
       "      <td>ia lutar pra fazer uma spfc e wandavision mas ...</td>\n",
       "      <td>0</td>\n",
       "    </tr>\n",
       "  </tbody>\n",
       "</table>\n",
       "</div>"
      ],
      "text/plain": [
       "                                         Treinamento  \\\n",
       "0  @wolveriwne já to ansioso demais pelo os próxi...   \n",
       "1  pensei aqui e wandavision chama wandavision pq...   \n",
       "2  assistindo wandavision com a minha mãe e tendo...   \n",
       "3  @youngavengerbr foi pra chamada de elenco tbm,...   \n",
       "4  ia lutar pra fazer uma spfc e wandavision mas ...   \n",
       "\n",
       "   Relevante (1) - Irrelevante (0)  \n",
       "0                                1  \n",
       "1                                0  \n",
       "2                                0  \n",
       "3                                0  \n",
       "4                                0  "
      ]
     },
     "execution_count": 112,
     "metadata": {},
     "output_type": "execute_result"
    }
   ],
   "source": [
    "train = pd.read_excel(filename)\n",
    "train.head(5)"
   ]
  },
  {
   "cell_type": "code",
   "execution_count": 113,
   "metadata": {},
   "outputs": [
    {
     "data": {
      "text/plain": [
       "1      pensei aqui e wandavision chama wandavision pq...\n",
       "2      assistindo wandavision com a minha mãe e tendo...\n",
       "3      @youngavengerbr foi pra chamada de elenco tbm,...\n",
       "4      ia lutar pra fazer uma spfc e wandavision mas ...\n",
       "5      finalmente chegou meu dia de assistir wandavision\n",
       "                             ...                        \n",
       "294    @joandro10 @peterjordan100 meu fi deu uma de w...\n",
       "295    não dá pra ver um episódio de wandavision com ...\n",
       "296    altura — 1,56\\ntamanho do pé — 36/37\\nsigno — ...\n",
       "298    eu assistindo #wandavision / eu assistindo #fa...\n",
       "299    simkkk e ainda tem gente q jura so por causa d...\n",
       "Name: Treinamento, Length: 146, dtype: object"
      ]
     },
     "execution_count": 113,
     "metadata": {},
     "output_type": "execute_result"
    }
   ],
   "source": [
    "classe0=train.loc[train['Relevante (1) - Irrelevante (0)']==0,'Treinamento']\n",
    "classe0"
   ]
  },
  {
   "cell_type": "code",
   "execution_count": 114,
   "metadata": {},
   "outputs": [
    {
     "data": {
      "text/plain": [
       "0      @wolveriwne já to ansioso demais pelo os próxi...\n",
       "6      @adrielcosta_ os episódios de wandavision são ...\n",
       "10     eu assisti wandavision em uma manhã e ainda as...\n",
       "12     ok, ok, wandavision realmente é boa pacas. sit...\n",
       "14     o primeiro episódio de falcão e o soldado inve...\n",
       "                             ...                        \n",
       "285    tô tão confuso assistindo wandavision https://...\n",
       "287     esse primeiro ep de wandavision é bem zzzzzzzzzz\n",
       "290    acabei wandavision e pqp, que série, tomara qu...\n",
       "291    que tristeza não vai ter segunda temporada de ...\n",
       "297              ai não superei o fim de wandavision não\n",
       "Name: Treinamento, Length: 154, dtype: object"
      ]
     },
     "execution_count": 114,
     "metadata": {},
     "output_type": "execute_result"
    }
   ],
   "source": [
    "classe1=train.loc[train['Relevante (1) - Irrelevante (0)']==1,'Treinamento']\n",
    "classe1"
   ]
  },
  {
   "cell_type": "code",
   "execution_count": 162,
   "metadata": {},
   "outputs": [
    {
     "data": {
      "text/html": [
       "<div>\n",
       "<style scoped>\n",
       "    .dataframe tbody tr th:only-of-type {\n",
       "        vertical-align: middle;\n",
       "    }\n",
       "\n",
       "    .dataframe tbody tr th {\n",
       "        vertical-align: top;\n",
       "    }\n",
       "\n",
       "    .dataframe thead th {\n",
       "        text-align: right;\n",
       "    }\n",
       "</style>\n",
       "<table border=\"1\" class=\"dataframe\">\n",
       "  <thead>\n",
       "    <tr style=\"text-align: right;\">\n",
       "      <th></th>\n",
       "      <th>Teste</th>\n",
       "      <th>Relevante (1) - Irrelevante (0)</th>\n",
       "    </tr>\n",
       "  </thead>\n",
       "  <tbody>\n",
       "    <tr>\n",
       "      <th>0</th>\n",
       "      <td>terminei #wandavision.. nada surpreendente. va...</td>\n",
       "      <td>0</td>\n",
       "    </tr>\n",
       "    <tr>\n",
       "      <th>1</th>\n",
       "      <td>contribua para desflopar esse vídeo de um film...</td>\n",
       "      <td>0</td>\n",
       "    </tr>\n",
       "    <tr>\n",
       "      <th>2</th>\n",
       "      <td>comecei wandavision hoje já to no ep 3 pls pq ...</td>\n",
       "      <td>1</td>\n",
       "    </tr>\n",
       "    <tr>\n",
       "      <th>3</th>\n",
       "      <td>@hey_mika velho, que ódio desse povo chato! nu...</td>\n",
       "      <td>0</td>\n",
       "    </tr>\n",
       "    <tr>\n",
       "      <th>4</th>\n",
       "      <td>muito alto na videoconferência explicando wand...</td>\n",
       "      <td>0</td>\n",
       "    </tr>\n",
       "  </tbody>\n",
       "</table>\n",
       "</div>"
      ],
      "text/plain": [
       "                                               Teste  \\\n",
       "0  terminei #wandavision.. nada surpreendente. va...   \n",
       "1  contribua para desflopar esse vídeo de um film...   \n",
       "2  comecei wandavision hoje já to no ep 3 pls pq ...   \n",
       "3  @hey_mika velho, que ódio desse povo chato! nu...   \n",
       "4  muito alto na videoconferência explicando wand...   \n",
       "\n",
       "   Relevante (1) - Irrelevante (0)  \n",
       "0                                0  \n",
       "1                                0  \n",
       "2                                1  \n",
       "3                                0  \n",
       "4                                0  "
      ]
     },
     "execution_count": 162,
     "metadata": {},
     "output_type": "execute_result"
    }
   ],
   "source": [
    "teste = pd.read_excel(filename, sheet_name = 'Teste')\n",
    "teste.head(5)"
   ]
  },
  {
   "cell_type": "markdown",
   "metadata": {},
   "source": [
    "___\n",
    "## Classificador automático de sentimento\n"
   ]
  },
  {
   "cell_type": "markdown",
   "metadata": {},
   "source": [
    "Faça aqui uma descrição do seu produto e o que considerou como relevante ou não relevante na classificação dos tweets.\n",
    "\n",
    "O nosso produto é a Serie americana wandavision, feita pela Marvel e distribuida pela disney+. E consideramos relevantes os tweets que apresentavam qualquer tipo de opinião sobre a mesma."
   ]
  },
  {
   "cell_type": "markdown",
   "metadata": {},
   "source": [
    "___\n",
    "### Montando um Classificador Naive-Bayes\n",
    "\n",
    "Considerando apenas as mensagens da planilha Treinamento, ensine  seu classificador."
   ]
  },
  {
   "cell_type": "code",
   "execution_count": 116,
   "metadata": {},
   "outputs": [],
   "source": [
    "# https://docs.python.org/3/library/re.html#\n",
    "import re \n",
    "\n",
    "\n",
    "def cleanup(texto):\n",
    "    pontuacao = '[!-.:?;]'\n",
    "    pattern = re.compile(pontuacao)\n",
    "    texto_novo = re.sub(pattern, '', texto)\n",
    "    return texto_novo"
   ]
  },
  {
   "cell_type": "code",
   "execution_count": 117,
   "metadata": {},
   "outputs": [],
   "source": [
    "texto_0=' '.join(classe0)"
   ]
  },
  {
   "cell_type": "code",
   "execution_count": 118,
   "metadata": {},
   "outputs": [],
   "source": [
    "texto_1=' '.join(classe1)"
   ]
  },
  {
   "cell_type": "code",
   "execution_count": 119,
   "metadata": {},
   "outputs": [
    {
     "data": {
      "text/plain": [
       "2848"
      ]
     },
     "execution_count": 119,
     "metadata": {},
     "output_type": "execute_result"
    }
   ],
   "source": [
    "len(texto_0.split())"
   ]
  },
  {
   "cell_type": "code",
   "execution_count": 120,
   "metadata": {},
   "outputs": [
    {
     "data": {
      "text/plain": [
       "2804"
      ]
     },
     "execution_count": 120,
     "metadata": {},
     "output_type": "execute_result"
    }
   ],
   "source": [
    "len(texto_1.split())"
   ]
  },
  {
   "cell_type": "code",
   "execution_count": 121,
   "metadata": {},
   "outputs": [],
   "source": [
    "texto0_limpo=cleanup(texto_0).lower()"
   ]
  },
  {
   "cell_type": "code",
   "execution_count": 122,
   "metadata": {
    "scrolled": true
   },
   "outputs": [],
   "source": [
    "texto1_limpo=cleanup(texto_1).lower()"
   ]
  },
  {
   "cell_type": "code",
   "execution_count": 123,
   "metadata": {},
   "outputs": [
    {
     "data": {
      "text/plain": [
       "0                      pensei\n",
       "1                        aqui\n",
       "2                           e\n",
       "3                 wandavision\n",
       "4                       chama\n",
       "                ...          \n",
       "2820                      por\n",
       "2821                    causa\n",
       "2822                       de\n",
       "2823              wandavision\n",
       "2824    https//tco/xhlplzslua\n",
       "Length: 2825, dtype: object"
      ]
     },
     "execution_count": 123,
     "metadata": {},
     "output_type": "execute_result"
    }
   ],
   "source": [
    "todas_palavras_irrelevantes=texto0_limpo.split()\n",
    "palavras_irrelevantes = pd.Series(todas_palavras_irrelevantes)\n",
    "palavras_irrelevantes"
   ]
  },
  {
   "cell_type": "code",
   "execution_count": 124,
   "metadata": {},
   "outputs": [
    {
     "data": {
      "text/plain": [
       "0       @wolveriwne\n",
       "1                já\n",
       "2                to\n",
       "3           ansioso\n",
       "4            demais\n",
       "           ...     \n",
       "2791              o\n",
       "2792            fim\n",
       "2793             de\n",
       "2794    wandavision\n",
       "2795            não\n",
       "Length: 2796, dtype: object"
      ]
     },
     "execution_count": 124,
     "metadata": {},
     "output_type": "execute_result"
    }
   ],
   "source": [
    "todas_palavras_relevantes=texto1_limpo.split()\n",
    "palavras_relevantes=pd.Series(todas_palavras_relevantes)\n",
    "palavras_relevantes"
   ]
  },
  {
   "cell_type": "code",
   "execution_count": 125,
   "metadata": {},
   "outputs": [
    {
     "data": {
      "text/plain": [
       "wandavision      0.052389\n",
       "de               0.032566\n",
       "e                0.027611\n",
       "a                0.023363\n",
       "que              0.022301\n",
       "                   ...   \n",
       "contemporânea    0.000354\n",
       "peraí            0.000354\n",
       "assuntos         0.000354\n",
       "widow            0.000354\n",
       "referência       0.000354\n",
       "Length: 1140, dtype: float64"
      ]
     },
     "execution_count": 125,
     "metadata": {},
     "output_type": "execute_result"
    }
   ],
   "source": [
    "serie_irrelevantes_relativa = palavras_irrelevantes.value_counts(True)\n",
    "serie_irrelevantes_relativa"
   ]
  },
  {
   "cell_type": "code",
   "execution_count": 126,
   "metadata": {},
   "outputs": [
    {
     "data": {
      "text/plain": [
       "wandavision    0.054363\n",
       "de             0.040415\n",
       "e              0.036481\n",
       "que            0.029328\n",
       "o              0.025751\n",
       "                 ...   \n",
       "@gtome09       0.000358\n",
       "trabalhado     0.000358\n",
       "minuto         0.000358\n",
       "superar        0.000358\n",
       "luz            0.000358\n",
       "Length: 934, dtype: float64"
      ]
     },
     "execution_count": 126,
     "metadata": {},
     "output_type": "execute_result"
    }
   ],
   "source": [
    "serie_relevantes_relativa = palavras_relevantes.value_counts(True)\n",
    "serie_relevantes_relativa"
   ]
  },
  {
   "cell_type": "code",
   "execution_count": 127,
   "metadata": {},
   "outputs": [
    {
     "data": {
      "text/plain": [
       "wandavision      148\n",
       "de                92\n",
       "e                 78\n",
       "a                 66\n",
       "que               63\n",
       "                ... \n",
       "contemporânea      1\n",
       "peraí              1\n",
       "assuntos           1\n",
       "widow              1\n",
       "referência         1\n",
       "Length: 1140, dtype: int64"
      ]
     },
     "execution_count": 127,
     "metadata": {},
     "output_type": "execute_result"
    }
   ],
   "source": [
    "serie_irrelevantes = pd.Series(todas_palavras_irrelevantes)\n",
    "tabela_irrelevantes = serie_irrelevantes.value_counts()\n",
    "tabela_irrelevantes"
   ]
  },
  {
   "cell_type": "code",
   "execution_count": 128,
   "metadata": {},
   "outputs": [
    {
     "data": {
      "text/plain": [
       "wandavision    152\n",
       "de             113\n",
       "e              102\n",
       "que             82\n",
       "o               72\n",
       "              ... \n",
       "@gtome09         1\n",
       "trabalhado       1\n",
       "minuto           1\n",
       "superar          1\n",
       "luz              1\n",
       "Length: 934, dtype: int64"
      ]
     },
     "execution_count": 128,
     "metadata": {},
     "output_type": "execute_result"
    }
   ],
   "source": [
    "serie_relevantes = pd.Series(todas_palavras_relevantes)\n",
    "tabela_relevantes = serie_relevantes.value_counts()\n",
    "tabela_relevantes"
   ]
  },
  {
   "cell_type": "code",
   "execution_count": 129,
   "metadata": {},
   "outputs": [],
   "source": [
    "geral = texto0_limpo + texto1_limpo"
   ]
  },
  {
   "cell_type": "code",
   "execution_count": 130,
   "metadata": {},
   "outputs": [
    {
     "data": {
      "text/plain": [
       "0            pensei\n",
       "1              aqui\n",
       "2                 e\n",
       "3       wandavision\n",
       "4             chama\n",
       "           ...     \n",
       "5615              o\n",
       "5616            fim\n",
       "5617             de\n",
       "5618    wandavision\n",
       "5619            não\n",
       "Length: 5620, dtype: object"
      ]
     },
     "execution_count": 130,
     "metadata": {},
     "output_type": "execute_result"
    }
   ],
   "source": [
    "todas_palavras = geral.split()\n",
    "serie_geral = pd.Series(todas_palavras)\n",
    "serie_geral"
   ]
  },
  {
   "cell_type": "code",
   "execution_count": 131,
   "metadata": {},
   "outputs": [
    {
     "data": {
      "text/plain": [
       "wandavision    0.053381\n",
       "de             0.036477\n",
       "e              0.032028\n",
       "que            0.025801\n",
       "o              0.023310\n",
       "                 ...   \n",
       "grade          0.000178\n",
       "paralelo       0.000178\n",
       "cachorro       0.000178\n",
       "aparecendo     0.000178\n",
       "💀              0.000178\n",
       "Length: 1713, dtype: float64"
      ]
     },
     "execution_count": 131,
     "metadata": {},
     "output_type": "execute_result"
    }
   ],
   "source": [
    "tabela_geral_relativa = serie_geral.value_counts(True)\n",
    "tabela_geral_relativa"
   ]
  },
  {
   "cell_type": "code",
   "execution_count": 139,
   "metadata": {},
   "outputs": [],
   "source": [
    "irrelevantes_palavras=tabela_irrelevantes.sum()\n",
    "relevantes_palavras=tabela_relevantes.sum()\n",
    "todas=irrelevantes_palavras+relevantes_palavras\n",
    "probI=irrelevantes_palavras/todas\n",
    "probR=relevantes_palavras/todas"
   ]
  },
  {
   "cell_type": "code",
   "execution_count": 245,
   "metadata": {},
   "outputs": [],
   "source": [
    "def prob(mensagem,contador,total):\n",
    "    laplace=1\n",
    "    for palavra in mensagem:\n",
    "        if not palavra in total:\n",
    "            laplace= 1\n",
    "        else:\n",
    "            laplace= laplace + contador/(len(total)+len(serie_geral))\n",
    "        \n",
    "    return laplace\n",
    "            \n",
    "def classifica_tweets(mensagem):\n",
    "    if prob(mensagem, irrelevantes_palavras,tabela_geral_relativa) > prob(mensagem,relevantes_palavras,tabela_geral_relativa):\n",
    "        return 'Irrelevante'\n",
    "    else:\n",
    "        return 'Relevante'\n",
    "    "
   ]
  },
  {
   "cell_type": "markdown",
   "metadata": {},
   "source": [
    "___\n",
    "### Verificando a performance do Classificador\n",
    "\n",
    "Agora você deve testar o seu classificador com a base de Testes."
   ]
  },
  {
   "cell_type": "code",
   "execution_count": 246,
   "metadata": {},
   "outputs": [
    {
     "data": {
      "text/html": [
       "<div>\n",
       "<style scoped>\n",
       "    .dataframe tbody tr th:only-of-type {\n",
       "        vertical-align: middle;\n",
       "    }\n",
       "\n",
       "    .dataframe tbody tr th {\n",
       "        vertical-align: top;\n",
       "    }\n",
       "\n",
       "    .dataframe thead th {\n",
       "        text-align: right;\n",
       "    }\n",
       "</style>\n",
       "<table border=\"1\" class=\"dataframe\">\n",
       "  <thead>\n",
       "    <tr style=\"text-align: right;\">\n",
       "      <th></th>\n",
       "      <th>Teste</th>\n",
       "      <th>Relevante (1) - Irrelevante (0)</th>\n",
       "      <th>nova_classificação</th>\n",
       "    </tr>\n",
       "  </thead>\n",
       "  <tbody>\n",
       "    <tr>\n",
       "      <th>0</th>\n",
       "      <td>terminei #wandavision.. nada surpreendente. va...</td>\n",
       "      <td>0</td>\n",
       "      <td>Relevante</td>\n",
       "    </tr>\n",
       "    <tr>\n",
       "      <th>1</th>\n",
       "      <td>contribua para desflopar esse vídeo de um film...</td>\n",
       "      <td>0</td>\n",
       "      <td>Irrelevante</td>\n",
       "    </tr>\n",
       "    <tr>\n",
       "      <th>2</th>\n",
       "      <td>comecei wandavision hoje já to no ep 3 pls pq ...</td>\n",
       "      <td>1</td>\n",
       "      <td>Relevante</td>\n",
       "    </tr>\n",
       "    <tr>\n",
       "      <th>3</th>\n",
       "      <td>@hey_mika velho, que ódio desse povo chato! nu...</td>\n",
       "      <td>0</td>\n",
       "      <td>Relevante</td>\n",
       "    </tr>\n",
       "    <tr>\n",
       "      <th>4</th>\n",
       "      <td>muito alto na videoconferência explicando wand...</td>\n",
       "      <td>0</td>\n",
       "      <td>Relevante</td>\n",
       "    </tr>\n",
       "    <tr>\n",
       "      <th>...</th>\n",
       "      <td>...</td>\n",
       "      <td>...</td>\n",
       "      <td>...</td>\n",
       "    </tr>\n",
       "    <tr>\n",
       "      <th>195</th>\n",
       "      <td>wandavision é bom? tô querendo pegar pra ver</td>\n",
       "      <td>0</td>\n",
       "      <td>Relevante</td>\n",
       "    </tr>\n",
       "    <tr>\n",
       "      <th>196</th>\n",
       "      <td>eu até gostei de falcão e o soldado invernal, ...</td>\n",
       "      <td>1</td>\n",
       "      <td>Irrelevante</td>\n",
       "    </tr>\n",
       "    <tr>\n",
       "      <th>197</th>\n",
       "      <td>pq ele n fala q o final de wandavision teve es...</td>\n",
       "      <td>1</td>\n",
       "      <td>Relevante</td>\n",
       "    </tr>\n",
       "    <tr>\n",
       "      <th>198</th>\n",
       "      <td>@hikeka_ wandavision não tem defeitos. mas rea...</td>\n",
       "      <td>1</td>\n",
       "      <td>Relevante</td>\n",
       "    </tr>\n",
       "    <tr>\n",
       "      <th>199</th>\n",
       "      <td>@vianagabriel4 eu não gosto também amigooo, ac...</td>\n",
       "      <td>1</td>\n",
       "      <td>Relevante</td>\n",
       "    </tr>\n",
       "  </tbody>\n",
       "</table>\n",
       "<p>200 rows × 3 columns</p>\n",
       "</div>"
      ],
      "text/plain": [
       "                                                 Teste  \\\n",
       "0    terminei #wandavision.. nada surpreendente. va...   \n",
       "1    contribua para desflopar esse vídeo de um film...   \n",
       "2    comecei wandavision hoje já to no ep 3 pls pq ...   \n",
       "3    @hey_mika velho, que ódio desse povo chato! nu...   \n",
       "4    muito alto na videoconferência explicando wand...   \n",
       "..                                                 ...   \n",
       "195       wandavision é bom? tô querendo pegar pra ver   \n",
       "196  eu até gostei de falcão e o soldado invernal, ...   \n",
       "197  pq ele n fala q o final de wandavision teve es...   \n",
       "198  @hikeka_ wandavision não tem defeitos. mas rea...   \n",
       "199  @vianagabriel4 eu não gosto também amigooo, ac...   \n",
       "\n",
       "     Relevante (1) - Irrelevante (0) nova_classificação  \n",
       "0                                  0          Relevante  \n",
       "1                                  0        Irrelevante  \n",
       "2                                  1          Relevante  \n",
       "3                                  0          Relevante  \n",
       "4                                  0          Relevante  \n",
       "..                               ...                ...  \n",
       "195                                0          Relevante  \n",
       "196                                1        Irrelevante  \n",
       "197                                1          Relevante  \n",
       "198                                1          Relevante  \n",
       "199                                1          Relevante  \n",
       "\n",
       "[200 rows x 3 columns]"
      ]
     },
     "execution_count": 246,
     "metadata": {},
     "output_type": "execute_result"
    }
   ],
   "source": [
    "teste['nova_classificação'] = 'NaN'\n",
    "for i in range(len(teste)):\n",
    "    teste.loc[i, 'nova_classificação'] = classifica_tweets(teste.loc[i, 'Teste'])\n",
    "teste"
   ]
  },
  {
   "cell_type": "markdown",
   "metadata": {},
   "source": [
    "___\n",
    "### Concluindo"
   ]
  },
  {
   "cell_type": "code",
   "execution_count": null,
   "metadata": {},
   "outputs": [],
   "source": [
    "#Discorrer por que não posso alimentar minha base de Treinamento\n",
    "#automaticamente usando o próprio classificador, aplicado a novos tweets.\n",
    "\n",
    "#Propor diferentes cenários de uso para o classificador Naive-Bayes. Pense em\n",
    "#outros cenários sem intersecção com este projeto.\n",
    "\n",
    "#Sugerir e explicar melhorias reais no classificador com indicações concretas de\n",
    "#como implementar (não é preciso codificar, mas indicar como fazer. Indique\n",
    "#material de pesquisa sobre o assunto).\n"
   ]
  },
  {
   "cell_type": "markdown",
   "metadata": {},
   "source": [
    "A base de treinamento não pode ser alimentada usando o próprio classificador, já que para o seu desenvolvimento os tweets foram classificados a mão, como relevantes e irrelevantes. Devido a isso, alguns erros indesejáveis podem acabar tornando o classificador tendencioso, desvinculando de seu propósito."
   ]
  },
  {
   "cell_type": "markdown",
   "metadata": {},
   "source": [
    "Entre as possibilidades de uso para o classificador Naive-Bayes, podemos destacar a classificação de um e-mail como SPAM ou Não-SPAM, ou até mesmo para saber sobre qual assunto se refere determinado texto.\n",
    "E a partir de algumas pesquisas, foi reconhecido que o próprio teorema de Naive-Bayes pode ajudar até mesmo na medicina, no cálculo de probabilidades em cima de diagnósticos de doenças."
   ]
  },
  {
   "cell_type": "markdown",
   "metadata": {},
   "source": [
    "Recentemente, Webb et al. (2005) propuseram os Averaged One-Dependence Estimators (AODE), que fazem a\n",
    "média de todos os modelos a partir de uma classe restrita de classificadores de dependência única.\n",
    "\n",
    "Dentre outras abordagens desenvolvidas para aumentar a precisão do NBC está incluída [Kohavi 1994], na qual usam-se wrappers para selecionar um subconjunto de atributos. Embora essa abordagem possa diminuir o problema causado pela suposição de independência, ela não lida diretamente com o problema de atributos relacionados. \n",
    "\n",
    "Kononenko (1991) propôs a combinação de dois ou mais atributos relacionados a fim de lidar com o problema: os atributos originais são substituídos por uma combinação deles, cujos valores possíveis são as combinações de todos os valores possíveis para cada um dos atributos originais (atributos numéricos são discretizados).\n",
    "\n",
    "Todas essas formas melhoramento à performance do Algoritmo Naive Bayes, foram pesquisadas e encontradas em um estudo realizado por Aloísio Carlos de Pina e Gerson Zaverucha.\n",
    "Nome do artigo: Melhorando a Performance do Algoritmo Naive Bayes para Regressão Através da Combinação de Atributos.\n",
    "Universidade: COPPE/Sistemas – Universidade Federal do Rio de Janeiro (UFRJ).\n",
    "\n",
    "Link para consulta do arquivo e referenciação: https://www.cos.ufrj.br/~ines/enia07_html/pdf/28095.pdf.\n"
   ]
  },
  {
   "cell_type": "markdown",
   "metadata": {},
   "source": [
    "___\n",
    "### Qualidade do Classificador a partir de novas separações dos tweets entre Treinamento e Teste\n",
    "\n",
    "Caso for fazer esse item do Projeto"
   ]
  },
  {
   "cell_type": "code",
   "execution_count": null,
   "metadata": {},
   "outputs": [],
   "source": []
  },
  {
   "cell_type": "code",
   "execution_count": null,
   "metadata": {},
   "outputs": [],
   "source": []
  },
  {
   "cell_type": "code",
   "execution_count": null,
   "metadata": {},
   "outputs": [],
   "source": []
  },
  {
   "cell_type": "markdown",
   "metadata": {},
   "source": [
    "___\n",
    "## Aperfeiçoamento:\n",
    "\n",
    "Os trabalhos vão evoluir em conceito dependendo da quantidade de itens avançados:\n",
    "\n",
    "* Limpar: \\n, :, \", ', (, ), etc SEM remover emojis\n",
    "* Corrigir separação de espaços entre palavras e emojis ou entre emojis e emojis\n",
    "* Propor outras limpezas e transformações que não afetem a qualidade da informação ou classificação\n",
    "* Criar categorias intermediárias de relevância baseadas na probabilidade: ex.: muito relevante, relevante, neutro, irrelevante, muito irrelevante (3 categorias: C, mais categorias conta para B)\n",
    "* Explicar por que não posso usar o próprio classificador para gerar mais amostras de treinamento\n",
    "* Propor diferentes cenários para Naïve Bayes fora do contexto do projeto\n",
    "* Sugerir e explicar melhorias reais com indicações concretas de como implementar (indicar como fazer e indicar material de pesquisa)\n"
   ]
  },
  {
   "cell_type": "markdown",
   "metadata": {},
   "source": [
    "___\n",
    "## Referências"
   ]
  },
  {
   "cell_type": "markdown",
   "metadata": {},
   "source": [
    "[Naive Bayes and Text Classification](https://arxiv.org/pdf/1410.5329.pdf)  **Mais completo**\n",
    "\n",
    "[A practical explanation of a Naive Bayes Classifier](https://monkeylearn.com/blog/practical-explanation-naive-bayes-classifier/) **Mais simples**"
   ]
  },
  {
   "cell_type": "code",
   "execution_count": null,
   "metadata": {},
   "outputs": [],
   "source": []
  }
 ],
 "metadata": {
  "kernelspec": {
   "display_name": "Python 3",
   "language": "python",
   "name": "python3"
  },
  "language_info": {
   "codemirror_mode": {
    "name": "ipython",
    "version": 3
   },
   "file_extension": ".py",
   "mimetype": "text/x-python",
   "name": "python",
   "nbconvert_exporter": "python",
   "pygments_lexer": "ipython3",
   "version": "3.8.5"
  }
 },
 "nbformat": 4,
 "nbformat_minor": 4
}
